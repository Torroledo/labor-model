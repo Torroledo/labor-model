{
 "cells": [
  {
   "cell_type": "markdown",
   "metadata": {},
   "source": [
    "# Model \n",
    "### CALIBRATION"
   ]
  },
  {
   "cell_type": "code",
   "execution_count": 1,
   "metadata": {},
   "outputs": [],
   "source": [
    "from tqdm import tqdm "
   ]
  },
  {
   "cell_type": "code",
   "execution_count": 14,
   "metadata": {},
   "outputs": [],
   "source": [
    "# tau_ncsb, lambda_l, z_ub\n",
    "beta_f   = 0.480\n",
    "beta_i   = 0.525\n",
    "tau_l    = 0.603 # Anton uses 0.603\n",
    "tau_pi   = 1/3\n",
    "tau_ncsb = 0.9   # Anton uses 0.016\n",
    "lambda_l = 0.260\n",
    "sigma_l  = 1.500\n",
    "S        = 0.500 # Leal : 4.25\n",
    "gamma    = 2/3   # Anton uses 0.33 for capital share\n",
    "z_lb     = 1.000 # Leal: 1\n",
    "z_ub     = 5.640 # Leal: 13\n",
    "kai      = 0.4\n",
    "all_vec = [0,0,0,0,0,0]\n",
    "n_steps = 4"
   ]
  },
  {
   "cell_type": "code",
   "execution_count": 15,
   "metadata": {},
   "outputs": [],
   "source": [
    "def labor_model_self_emp(x):\n",
    "\t#------------------------------------------------\n",
    "\t# PURPOSE: labor market simulation\n",
    "\t#------------------------------------------------\n",
    "\t# USAGE: li : Demand of informal labor by firm (X)\n",
    "\t# where: x : x[0] formal wage\n",
    "\t#            x[1] informal wage\n",
    "\t#            x[2] z1\n",
    "\t#            x[3] formal employment at z2\n",
    "\t#            x[4] informal employment at z2\n",
    "\t#            x[5] z2\n",
    "\t#            x[6] self-employment at z1\n",
    "\t#            x[7] self-employment at z2\n",
    "\t#            x[8] share of formal employees\n",
    "\n",
    "    F = np.zeros(10)\n",
    "\n",
    "    #household eq. for eta\n",
    "    F[0]  = x[0]*(1+beta_f*tau_l)-x[1]-beta_i*tau_ncsb\n",
    "    #self-employment at z1\n",
    "    F[1]  = x[6]-((gamma/x[1])**(1/(1-gamma))*x[2])\n",
    "    #equilibrium for z1\n",
    "    F[2]  = (x[1]*(1+x[6]-kai))-(x[2]**(1-gamma)*(x[6]**gamma))\n",
    "    #total labor demand from employer\n",
    "    F[3]  = x[3]+((1+tau_l)*(x[0]/x[1])-1)/(2*lambda_l*sigma_l*tau_l*x[5])-((gamma/((1+tau_l)*x[0]))**(1/(1-gamma))*x[5])\n",
    "    #self-employment at z2\n",
    "    F[4]  = x[7]-(gamma/x[1])**(1/(1-gamma))*x[5]\n",
    "    #labor market equilibrium\n",
    "    F[5]  = ((S/(1-S))*z_lb**S*(kai*(gamma/x[1])**(1/(1-gamma))*(x[5]**(1-S)-x[2]**(1-S))+(gamma/(1+tau_l)*x[0])**(1/(1-gamma))*(z_ub**(1-S)-x[5]**(1-S))))-1+kai*(z_lb/x[5])**S+(1-kai)*(z_lb/x[2])**S\n",
    "    #goods market equilibrium\n",
    "    F[6]  = tau_ncsb*((1-(z_lb/z_ub)**S)/z_lb)+x[1]*(z_lb**(-S)+kai*x[5]**(-S))-(1-kai)*x[1]*(x[2]**(-S))-(S/(1+S))*((((1+tau_l)*x[0])**2)-x[1]**2)/(2*lambda_l*sigma_l*tau_l*x[1])*(z_ub**(-S-1)-x[1]**(-S-1))*gamma**(1/(1-gamma))-(S/(1-S))*((1/x[1])**(gamma/(1-gamma))*(x[5]**(1-S)-x[2]**(1-S))+((1/(1+tau_l)*x[0])**(gamma/(1-gamma)))*(z_ub**(1-S)-x[5]**(1-S)))\n",
    "    #equilibrium for z2\n",
    "    F[7]  = x[2]**(1-gamma)*x[7]**gamma+x[1]*(kai-x[2])-(1-tau_pi)*(x[5]**(1-gamma)*x[7]**gamma-(1+tau_l)*x[1]*x[3]-(1+lambda_l*x[7]*x[5]*sigma_l*tau_l)*x[7])\n",
    "    #government budget before reform\n",
    "    F[8]  = ((gamma**(gamma/(1-gamma)))-(gamma**(1/(1-gamma))))*(1/((1+tau_l)*x[0]))**(gamma/(1-gamma))*((z_ub**(1-S)-x[5]**(1-S))/(1-S))-(((1+tau_l)**2*x[0]**2/x[1]-2*(1+tau_l)+x[1])/4*lambda_l*sigma_l*tau_l)*((z_ub**(-S-1)-x[5]**(-S-1))/(1+S))+(tau_ncsb/(tau_pi*S))*((1-x[8])*(x[2]**(-S)-z_lb**(-S))+kai*(x[5]**(-S)-x[2]**(-S))+z_ub**(-S)-x[5]**(-S))\n",
    "    #share of formality\n",
    "    F[9] = x[8] - ((S/(1+S))*(z_lb**S*(x[5]**(-S-1)-z_ub**(-S-1))/(1-(z_lb/z_ub)**S)*((1+tau_l)*(x[0]/x[1])-1)/(2*lambda_l*sigma_l*tau_l))) / ((S/(1-S))*(gamma/(1+tau_l)*x[0]**(1/(1-gamma))*z_lb*(z_ub**(1-S)-x[5]**(1-S))/(1-(z_lb/z_ub)**S)))\n",
    "\n",
    "    return F"
   ]
  },
  {
   "cell_type": "code",
   "execution_count": 16,
   "metadata": {},
   "outputs": [],
   "source": [
    "import numpy as np\n",
    "from scipy.optimize import least_squares"
   ]
  },
  {
   "cell_type": "code",
   "execution_count": 17,
   "metadata": {},
   "outputs": [
    {
     "name": "stderr",
     "output_type": "stream",
     "text": [
      "100%|██████████| 4/4 [00:10<00:00,  2.53s/it]\n"
     ]
    }
   ],
   "source": [
    "# x0 = [2,    2,   2,  2,  2,   2,  2,  2, 0.5]\n",
    "x0 = [1,    1,   1,  1,  1,  1,  1,  1, .5]\n",
    "lb = [0,    0,z_lb,  0,  0,z_lb,  0,  0,0]\n",
    "ub = [100,100,z_ub,100,100,z_ub,100,100,1]\n",
    "all_vec = []\n",
    "\n",
    "for tau_ncsb in tqdm(np.linspace(7.000,7.200,n_steps)):\n",
    "    for lambda_l in np.linspace(0.45,0.55,n_steps):\n",
    "        for z_ub in np.linspace(1.150,1.250,n_steps):\n",
    "            for S in np.linspace(0.500,0.600,n_steps):\n",
    "                res = least_squares(labor_model_self_emp,x0,bounds=(lb,ub))\n",
    "                # results\n",
    "                w_f_w_l = res.x[0]/res.x[1]\n",
    "                shr_inf_emp = (1-res.x[8])*100 \n",
    "                # results of interest\n",
    "                all_vec.append([tau_ncsb,lambda_l,z_ub,S,shr_inf_emp,w_f_w_l])"
   ]
  },
  {
   "cell_type": "code",
   "execution_count": 22,
   "metadata": {},
   "outputs": [],
   "source": [
    "# model without tax reform\n",
    "#------------------------\n",
    "# parameters\n",
    "beta_f   = 0.480\n",
    "beta_i   = 0.525\n",
    "tau_l    = 0.603 # Anton uses 0.603\n",
    "tau_pi   = 1/3\n",
    "tau_ncsb = 7.000 # Anton uses 0.016\n",
    "lambda_l = 0.500\n",
    "sigma_l  = 1.500\n",
    "S        = 0.510 # Leal : 4.25\n",
    "gamma    = 2/3   # Anton uses 0.33 for capital share\n",
    "z_lb     = 1.000 # Leal: 1\n",
    "z_ub     = 1.2  # Leal: 13\n",
    "kai      = 0.4\n",
    "# simulation\n",
    "x0 = [1,    1,   1,  1,  1,   1,  1,  1,.5]\n",
    "lb = [0,    0,z_lb,  0,  0,z_lb,  0,  0, 0]\n",
    "ub = [100,100,z_ub,100,100,z_ub,100,100, 1]\n",
    "\n",
    "res = least_squares(labor_model_self_emp,x0,bounds=(lb,ub))\n",
    "# results\n",
    "w_f_w_l = res.x[0]/res.x[1]\n",
    "shr_inf_emp = (1-res.x[8])*100 "
   ]
  },
  {
   "cell_type": "code",
   "execution_count": null,
   "metadata": {},
   "outputs": [],
   "source": [
    "\n",
    "%model with tax reform\n",
    "%---------------------\n",
    "%parameters\n",
    "beta_f    = 0.480;\n",
    "beta_i    = 0.525;\n",
    "tau_l     = 0.468; % Anton uses 0.603\n",
    "tau_pi_0  = 1/4;\n",
    "tau_pi_tr = 0.09;\n",
    "tau_ncsb = 7.00; % Anton uses 0.016\n",
    "lambda_l = 0.500;\n",
    "sigma_l  = 1.500;\n",
    "S        = 0.51; %Leal : 4.25\n",
    "gamma    = 2/3; %Anton uses 0.33 for capital share\n",
    "z_lb     = 1.000; %Leal: 1\n",
    "z_ub     = 1.2; %Leal: 13\n",
    "kai      = 0.4;\n",
    "%simulation\n",
    "x0 = [2,    1,   2,  1,  1,   3,  1,  1,.5,  1];\n",
    "lb = [0,    0,z_lb,  0,  0,z_lb,  0,  0, 0,  0];\n",
    "ub = [100,100,z_ub,100,100,z_ub,100,100, 1,100];\n",
    "[x,resnorm,residual,exitflag,output] = lsqnonlin(@(x)labor_model_self_emp_tr(x,beta_f,beta_i,tau_l,tau_pi_0,tau_pi_tr,tau_ncsb,lambda_l,sigma_l,S,gamma,z_lb,z_ub,kai),x0,lb,ub)\n",
    "%results\n",
    "w_f_w_l = x(1)/x(2)\n",
    "shr_inf_emp_tr = (1-x(9))*100 \n",
    "\n",
    "%effect tax reform on informality\n",
    "change_shr_inf_emp     =  shr_inf_emp_tr-shr_inf_emp \n",
    "change_shr_inf_emp_per =((shr_inf_emp_tr-shr_inf_emp)/shr_inf_emp)*100\n"
   ]
  }
 ],
 "metadata": {
  "kernelspec": {
   "display_name": "Python 3",
   "language": "python",
   "name": "python3"
  },
  "language_info": {
   "codemirror_mode": {
    "name": "ipython",
    "version": 3
   },
   "file_extension": ".py",
   "mimetype": "text/x-python",
   "name": "python",
   "nbconvert_exporter": "python",
   "pygments_lexer": "ipython3",
   "version": "3.6.3"
  }
 },
 "nbformat": 4,
 "nbformat_minor": 2
}
